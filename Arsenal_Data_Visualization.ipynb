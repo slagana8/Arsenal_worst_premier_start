{
  "nbformat": 4,
  "nbformat_minor": 0,
  "metadata": {
    "colab": {
      "name": "Arsenal_Data_Visualization.ipynb",
      "provenance": [],
      "authorship_tag": "ABX9TyO+bemTSw5Br2TDhN8iXgkQ",
      "include_colab_link": true
    },
    "kernelspec": {
      "name": "python3",
      "display_name": "Python 3"
    },
    "language_info": {
      "name": "python"
    }
  },
  "cells": [
    {
      "cell_type": "markdown",
      "metadata": {
        "id": "view-in-github",
        "colab_type": "text"
      },
      "source": [
        "<a href=\"https://colab.research.google.com/github/slagana8/Arsenal_worst_premier_start/blob/main/Arsenal_Data_Visualization.ipynb\" target=\"_parent\"><img src=\"https://colab.research.google.com/assets/colab-badge.svg\" alt=\"Open In Colab\"/></a>"
      ]
    },
    {
      "cell_type": "markdown",
      "source": [
        "# Data Visualization Excercise: Arsenal's worst ever Premier League start\n",
        " Sam Lagana"
      ],
      "metadata": {
        "id": "hFmw0OLR8kss"
      }
    },
    {
      "cell_type": "code",
      "execution_count": 1,
      "metadata": {
        "colab": {
          "base_uri": "https://localhost:8080/"
        },
        "id": "rArqKi-Dtcac",
        "outputId": "3d62e7b4-64fa-45a6-c241-815da39978be"
      },
      "outputs": [
        {
          "output_type": "stream",
          "name": "stdout",
          "text": [
            "Mounted at /content/drive\n"
          ]
        }
      ],
      "source": [
        "# Mount drive\n",
        "from google.colab import drive\n",
        "drive.mount(\"/content/drive\")"
      ]
    },
    {
      "cell_type": "code",
      "source": [
        "#Libraries\n",
        "import pandas as pd\n",
        "import numpy as np\n",
        "import matplotlib.pyplot as plt\n",
        "import seaborn as sns"
      ],
      "metadata": {
        "id": "qlXickb5ti0q"
      },
      "execution_count": 2,
      "outputs": []
    },
    {
      "cell_type": "code",
      "source": [
        "# load data \n",
        "filename = \"/content/drive/MyDrive/Data/Arsenals_worst.csv\"\n",
        "df = pd.read_csv(\"/content/drive/MyDrive/Data/Arsenals_worst.csv\")\n",
        "df.head()"
      ],
      "metadata": {
        "colab": {
          "base_uri": "https://localhost:8080/",
          "height": 204
        },
        "id": "-RpgNYP7tsn2",
        "outputId": "b0eeeff0-5aad-4bc6-bc7b-822870541059"
      },
      "execution_count": 3,
      "outputs": [
        {
          "output_type": "execute_result",
          "data": {
            "text/plain": [
              "    season  played  won  drawn  lost  goals_for  goals_against  \\\n",
              "0  1992/93      19    9      2     8         22             20   \n",
              "1  1993/94      21    9      7     5         20             13   \n",
              "2  1994/95      19    6      6     7         23             22   \n",
              "3  1995/96      18    8      7     3         23             12   \n",
              "4  1996/97      17   10      5     2         34             16   \n",
              "\n",
              "   goal_difference  points  position  final_points  final_position  \n",
              "0                2      29         8          56.0            10.0  \n",
              "1                7      34         5          71.0             4.0  \n",
              "2                1      24        11          51.0            12.0  \n",
              "3               11      31         6          63.0             5.0  \n",
              "4               18      35         2          68.0             3.0  "
            ],
            "text/html": [
              "\n",
              "  <div id=\"df-a000bd59-b431-4fdd-9974-f94b5b954484\">\n",
              "    <div class=\"colab-df-container\">\n",
              "      <div>\n",
              "<style scoped>\n",
              "    .dataframe tbody tr th:only-of-type {\n",
              "        vertical-align: middle;\n",
              "    }\n",
              "\n",
              "    .dataframe tbody tr th {\n",
              "        vertical-align: top;\n",
              "    }\n",
              "\n",
              "    .dataframe thead th {\n",
              "        text-align: right;\n",
              "    }\n",
              "</style>\n",
              "<table border=\"1\" class=\"dataframe\">\n",
              "  <thead>\n",
              "    <tr style=\"text-align: right;\">\n",
              "      <th></th>\n",
              "      <th>season</th>\n",
              "      <th>played</th>\n",
              "      <th>won</th>\n",
              "      <th>drawn</th>\n",
              "      <th>lost</th>\n",
              "      <th>goals_for</th>\n",
              "      <th>goals_against</th>\n",
              "      <th>goal_difference</th>\n",
              "      <th>points</th>\n",
              "      <th>position</th>\n",
              "      <th>final_points</th>\n",
              "      <th>final_position</th>\n",
              "    </tr>\n",
              "  </thead>\n",
              "  <tbody>\n",
              "    <tr>\n",
              "      <th>0</th>\n",
              "      <td>1992/93</td>\n",
              "      <td>19</td>\n",
              "      <td>9</td>\n",
              "      <td>2</td>\n",
              "      <td>8</td>\n",
              "      <td>22</td>\n",
              "      <td>20</td>\n",
              "      <td>2</td>\n",
              "      <td>29</td>\n",
              "      <td>8</td>\n",
              "      <td>56.0</td>\n",
              "      <td>10.0</td>\n",
              "    </tr>\n",
              "    <tr>\n",
              "      <th>1</th>\n",
              "      <td>1993/94</td>\n",
              "      <td>21</td>\n",
              "      <td>9</td>\n",
              "      <td>7</td>\n",
              "      <td>5</td>\n",
              "      <td>20</td>\n",
              "      <td>13</td>\n",
              "      <td>7</td>\n",
              "      <td>34</td>\n",
              "      <td>5</td>\n",
              "      <td>71.0</td>\n",
              "      <td>4.0</td>\n",
              "    </tr>\n",
              "    <tr>\n",
              "      <th>2</th>\n",
              "      <td>1994/95</td>\n",
              "      <td>19</td>\n",
              "      <td>6</td>\n",
              "      <td>6</td>\n",
              "      <td>7</td>\n",
              "      <td>23</td>\n",
              "      <td>22</td>\n",
              "      <td>1</td>\n",
              "      <td>24</td>\n",
              "      <td>11</td>\n",
              "      <td>51.0</td>\n",
              "      <td>12.0</td>\n",
              "    </tr>\n",
              "    <tr>\n",
              "      <th>3</th>\n",
              "      <td>1995/96</td>\n",
              "      <td>18</td>\n",
              "      <td>8</td>\n",
              "      <td>7</td>\n",
              "      <td>3</td>\n",
              "      <td>23</td>\n",
              "      <td>12</td>\n",
              "      <td>11</td>\n",
              "      <td>31</td>\n",
              "      <td>6</td>\n",
              "      <td>63.0</td>\n",
              "      <td>5.0</td>\n",
              "    </tr>\n",
              "    <tr>\n",
              "      <th>4</th>\n",
              "      <td>1996/97</td>\n",
              "      <td>17</td>\n",
              "      <td>10</td>\n",
              "      <td>5</td>\n",
              "      <td>2</td>\n",
              "      <td>34</td>\n",
              "      <td>16</td>\n",
              "      <td>18</td>\n",
              "      <td>35</td>\n",
              "      <td>2</td>\n",
              "      <td>68.0</td>\n",
              "      <td>3.0</td>\n",
              "    </tr>\n",
              "  </tbody>\n",
              "</table>\n",
              "</div>\n",
              "      <button class=\"colab-df-convert\" onclick=\"convertToInteractive('df-a000bd59-b431-4fdd-9974-f94b5b954484')\"\n",
              "              title=\"Convert this dataframe to an interactive table.\"\n",
              "              style=\"display:none;\">\n",
              "        \n",
              "  <svg xmlns=\"http://www.w3.org/2000/svg\" height=\"24px\"viewBox=\"0 0 24 24\"\n",
              "       width=\"24px\">\n",
              "    <path d=\"M0 0h24v24H0V0z\" fill=\"none\"/>\n",
              "    <path d=\"M18.56 5.44l.94 2.06.94-2.06 2.06-.94-2.06-.94-.94-2.06-.94 2.06-2.06.94zm-11 1L8.5 8.5l.94-2.06 2.06-.94-2.06-.94L8.5 2.5l-.94 2.06-2.06.94zm10 10l.94 2.06.94-2.06 2.06-.94-2.06-.94-.94-2.06-.94 2.06-2.06.94z\"/><path d=\"M17.41 7.96l-1.37-1.37c-.4-.4-.92-.59-1.43-.59-.52 0-1.04.2-1.43.59L10.3 9.45l-7.72 7.72c-.78.78-.78 2.05 0 2.83L4 21.41c.39.39.9.59 1.41.59.51 0 1.02-.2 1.41-.59l7.78-7.78 2.81-2.81c.8-.78.8-2.07 0-2.86zM5.41 20L4 18.59l7.72-7.72 1.47 1.35L5.41 20z\"/>\n",
              "  </svg>\n",
              "      </button>\n",
              "      \n",
              "  <style>\n",
              "    .colab-df-container {\n",
              "      display:flex;\n",
              "      flex-wrap:wrap;\n",
              "      gap: 12px;\n",
              "    }\n",
              "\n",
              "    .colab-df-convert {\n",
              "      background-color: #E8F0FE;\n",
              "      border: none;\n",
              "      border-radius: 50%;\n",
              "      cursor: pointer;\n",
              "      display: none;\n",
              "      fill: #1967D2;\n",
              "      height: 32px;\n",
              "      padding: 0 0 0 0;\n",
              "      width: 32px;\n",
              "    }\n",
              "\n",
              "    .colab-df-convert:hover {\n",
              "      background-color: #E2EBFA;\n",
              "      box-shadow: 0px 1px 2px rgba(60, 64, 67, 0.3), 0px 1px 3px 1px rgba(60, 64, 67, 0.15);\n",
              "      fill: #174EA6;\n",
              "    }\n",
              "\n",
              "    [theme=dark] .colab-df-convert {\n",
              "      background-color: #3B4455;\n",
              "      fill: #D2E3FC;\n",
              "    }\n",
              "\n",
              "    [theme=dark] .colab-df-convert:hover {\n",
              "      background-color: #434B5C;\n",
              "      box-shadow: 0px 1px 3px 1px rgba(0, 0, 0, 0.15);\n",
              "      filter: drop-shadow(0px 1px 2px rgba(0, 0, 0, 0.3));\n",
              "      fill: #FFFFFF;\n",
              "    }\n",
              "  </style>\n",
              "\n",
              "      <script>\n",
              "        const buttonEl =\n",
              "          document.querySelector('#df-a000bd59-b431-4fdd-9974-f94b5b954484 button.colab-df-convert');\n",
              "        buttonEl.style.display =\n",
              "          google.colab.kernel.accessAllowed ? 'block' : 'none';\n",
              "\n",
              "        async function convertToInteractive(key) {\n",
              "          const element = document.querySelector('#df-a000bd59-b431-4fdd-9974-f94b5b954484');\n",
              "          const dataTable =\n",
              "            await google.colab.kernel.invokeFunction('convertToInteractive',\n",
              "                                                     [key], {});\n",
              "          if (!dataTable) return;\n",
              "\n",
              "          const docLinkHtml = 'Like what you see? Visit the ' +\n",
              "            '<a target=\"_blank\" href=https://colab.research.google.com/notebooks/data_table.ipynb>data table notebook</a>'\n",
              "            + ' to learn more about interactive tables.';\n",
              "          element.innerHTML = '';\n",
              "          dataTable['output_type'] = 'display_data';\n",
              "          await google.colab.output.renderOutput(dataTable, element);\n",
              "          const docLink = document.createElement('div');\n",
              "          docLink.innerHTML = docLinkHtml;\n",
              "          element.appendChild(docLink);\n",
              "        }\n",
              "      </script>\n",
              "    </div>\n",
              "  </div>\n",
              "  "
            ]
          },
          "metadata": {},
          "execution_count": 3
        }
      ]
    },
    {
      "cell_type": "code",
      "source": [
        "# check for duplicates\n",
        "df.duplicated().sum()"
      ],
      "metadata": {
        "colab": {
          "base_uri": "https://localhost:8080/"
        },
        "id": "kopGiRINvp_B",
        "outputId": "824daada-7764-4f8b-d033-f3cca217d769"
      },
      "execution_count": 4,
      "outputs": [
        {
          "output_type": "execute_result",
          "data": {
            "text/plain": [
              "0"
            ]
          },
          "metadata": {},
          "execution_count": 4
        }
      ]
    },
    {
      "cell_type": "code",
      "source": [
        "# Check for missing values\n",
        "df.info()"
      ],
      "metadata": {
        "colab": {
          "base_uri": "https://localhost:8080/"
        },
        "id": "jWYL4so0vxJZ",
        "outputId": "595fa4a6-46c5-4085-e2a7-51103a4dff24"
      },
      "execution_count": 5,
      "outputs": [
        {
          "output_type": "stream",
          "name": "stdout",
          "text": [
            "<class 'pandas.core.frame.DataFrame'>\n",
            "RangeIndex: 29 entries, 0 to 28\n",
            "Data columns (total 12 columns):\n",
            " #   Column           Non-Null Count  Dtype  \n",
            "---  ------           --------------  -----  \n",
            " 0   season           29 non-null     object \n",
            " 1   played           29 non-null     int64  \n",
            " 2   won              29 non-null     int64  \n",
            " 3   drawn            29 non-null     int64  \n",
            " 4   lost             29 non-null     int64  \n",
            " 5   goals_for        29 non-null     int64  \n",
            " 6   goals_against    29 non-null     int64  \n",
            " 7   goal_difference  29 non-null     int64  \n",
            " 8   points           29 non-null     int64  \n",
            " 9   position         29 non-null     int64  \n",
            " 10  final_points     28 non-null     float64\n",
            " 11  final_position   28 non-null     float64\n",
            "dtypes: float64(2), int64(9), object(1)\n",
            "memory usage: 2.8+ KB\n"
          ]
        }
      ]
    },
    {
      "cell_type": "code",
      "source": [
        "df.isna().sum()"
      ],
      "metadata": {
        "colab": {
          "base_uri": "https://localhost:8080/"
        },
        "id": "jZz1w7n5v61n",
        "outputId": "885d1f79-3a48-4419-dd0a-db9112a01e49"
      },
      "execution_count": 6,
      "outputs": [
        {
          "output_type": "execute_result",
          "data": {
            "text/plain": [
              "season             0\n",
              "played             0\n",
              "won                0\n",
              "drawn              0\n",
              "lost               0\n",
              "goals_for          0\n",
              "goals_against      0\n",
              "goal_difference    0\n",
              "points             0\n",
              "position           0\n",
              "final_points       1\n",
              "final_position     1\n",
              "dtype: int64"
            ]
          },
          "metadata": {},
          "execution_count": 6
        }
      ]
    },
    {
      "cell_type": "code",
      "source": [
        "df[df[\"final_points\"].isna()]"
      ],
      "metadata": {
        "colab": {
          "base_uri": "https://localhost:8080/",
          "height": 80
        },
        "id": "LBIr0OXQwAXD",
        "outputId": "abb27041-caaf-4721-a688-b9898f56f311"
      },
      "execution_count": 7,
      "outputs": [
        {
          "output_type": "execute_result",
          "data": {
            "text/plain": [
              "     season  played  won  drawn  lost  goals_for  goals_against  \\\n",
              "28  2020/21      13    4      2     7         11             16   \n",
              "\n",
              "    goal_difference  points  position  final_points  final_position  \n",
              "28               -5      14        15           NaN             NaN  "
            ],
            "text/html": [
              "\n",
              "  <div id=\"df-66690512-20c5-4cd5-aaf5-98a312ad5e52\">\n",
              "    <div class=\"colab-df-container\">\n",
              "      <div>\n",
              "<style scoped>\n",
              "    .dataframe tbody tr th:only-of-type {\n",
              "        vertical-align: middle;\n",
              "    }\n",
              "\n",
              "    .dataframe tbody tr th {\n",
              "        vertical-align: top;\n",
              "    }\n",
              "\n",
              "    .dataframe thead th {\n",
              "        text-align: right;\n",
              "    }\n",
              "</style>\n",
              "<table border=\"1\" class=\"dataframe\">\n",
              "  <thead>\n",
              "    <tr style=\"text-align: right;\">\n",
              "      <th></th>\n",
              "      <th>season</th>\n",
              "      <th>played</th>\n",
              "      <th>won</th>\n",
              "      <th>drawn</th>\n",
              "      <th>lost</th>\n",
              "      <th>goals_for</th>\n",
              "      <th>goals_against</th>\n",
              "      <th>goal_difference</th>\n",
              "      <th>points</th>\n",
              "      <th>position</th>\n",
              "      <th>final_points</th>\n",
              "      <th>final_position</th>\n",
              "    </tr>\n",
              "  </thead>\n",
              "  <tbody>\n",
              "    <tr>\n",
              "      <th>28</th>\n",
              "      <td>2020/21</td>\n",
              "      <td>13</td>\n",
              "      <td>4</td>\n",
              "      <td>2</td>\n",
              "      <td>7</td>\n",
              "      <td>11</td>\n",
              "      <td>16</td>\n",
              "      <td>-5</td>\n",
              "      <td>14</td>\n",
              "      <td>15</td>\n",
              "      <td>NaN</td>\n",
              "      <td>NaN</td>\n",
              "    </tr>\n",
              "  </tbody>\n",
              "</table>\n",
              "</div>\n",
              "      <button class=\"colab-df-convert\" onclick=\"convertToInteractive('df-66690512-20c5-4cd5-aaf5-98a312ad5e52')\"\n",
              "              title=\"Convert this dataframe to an interactive table.\"\n",
              "              style=\"display:none;\">\n",
              "        \n",
              "  <svg xmlns=\"http://www.w3.org/2000/svg\" height=\"24px\"viewBox=\"0 0 24 24\"\n",
              "       width=\"24px\">\n",
              "    <path d=\"M0 0h24v24H0V0z\" fill=\"none\"/>\n",
              "    <path d=\"M18.56 5.44l.94 2.06.94-2.06 2.06-.94-2.06-.94-.94-2.06-.94 2.06-2.06.94zm-11 1L8.5 8.5l.94-2.06 2.06-.94-2.06-.94L8.5 2.5l-.94 2.06-2.06.94zm10 10l.94 2.06.94-2.06 2.06-.94-2.06-.94-.94-2.06-.94 2.06-2.06.94z\"/><path d=\"M17.41 7.96l-1.37-1.37c-.4-.4-.92-.59-1.43-.59-.52 0-1.04.2-1.43.59L10.3 9.45l-7.72 7.72c-.78.78-.78 2.05 0 2.83L4 21.41c.39.39.9.59 1.41.59.51 0 1.02-.2 1.41-.59l7.78-7.78 2.81-2.81c.8-.78.8-2.07 0-2.86zM5.41 20L4 18.59l7.72-7.72 1.47 1.35L5.41 20z\"/>\n",
              "  </svg>\n",
              "      </button>\n",
              "      \n",
              "  <style>\n",
              "    .colab-df-container {\n",
              "      display:flex;\n",
              "      flex-wrap:wrap;\n",
              "      gap: 12px;\n",
              "    }\n",
              "\n",
              "    .colab-df-convert {\n",
              "      background-color: #E8F0FE;\n",
              "      border: none;\n",
              "      border-radius: 50%;\n",
              "      cursor: pointer;\n",
              "      display: none;\n",
              "      fill: #1967D2;\n",
              "      height: 32px;\n",
              "      padding: 0 0 0 0;\n",
              "      width: 32px;\n",
              "    }\n",
              "\n",
              "    .colab-df-convert:hover {\n",
              "      background-color: #E2EBFA;\n",
              "      box-shadow: 0px 1px 2px rgba(60, 64, 67, 0.3), 0px 1px 3px 1px rgba(60, 64, 67, 0.15);\n",
              "      fill: #174EA6;\n",
              "    }\n",
              "\n",
              "    [theme=dark] .colab-df-convert {\n",
              "      background-color: #3B4455;\n",
              "      fill: #D2E3FC;\n",
              "    }\n",
              "\n",
              "    [theme=dark] .colab-df-convert:hover {\n",
              "      background-color: #434B5C;\n",
              "      box-shadow: 0px 1px 3px 1px rgba(0, 0, 0, 0.15);\n",
              "      filter: drop-shadow(0px 1px 2px rgba(0, 0, 0, 0.3));\n",
              "      fill: #FFFFFF;\n",
              "    }\n",
              "  </style>\n",
              "\n",
              "      <script>\n",
              "        const buttonEl =\n",
              "          document.querySelector('#df-66690512-20c5-4cd5-aaf5-98a312ad5e52 button.colab-df-convert');\n",
              "        buttonEl.style.display =\n",
              "          google.colab.kernel.accessAllowed ? 'block' : 'none';\n",
              "\n",
              "        async function convertToInteractive(key) {\n",
              "          const element = document.querySelector('#df-66690512-20c5-4cd5-aaf5-98a312ad5e52');\n",
              "          const dataTable =\n",
              "            await google.colab.kernel.invokeFunction('convertToInteractive',\n",
              "                                                     [key], {});\n",
              "          if (!dataTable) return;\n",
              "\n",
              "          const docLinkHtml = 'Like what you see? Visit the ' +\n",
              "            '<a target=\"_blank\" href=https://colab.research.google.com/notebooks/data_table.ipynb>data table notebook</a>'\n",
              "            + ' to learn more about interactive tables.';\n",
              "          element.innerHTML = '';\n",
              "          dataTable['output_type'] = 'display_data';\n",
              "          await google.colab.output.renderOutput(dataTable, element);\n",
              "          const docLink = document.createElement('div');\n",
              "          docLink.innerHTML = docLinkHtml;\n",
              "          element.appendChild(docLink);\n",
              "        }\n",
              "      </script>\n",
              "    </div>\n",
              "  </div>\n",
              "  "
            ]
          },
          "metadata": {},
          "execution_count": 7
        }
      ]
    },
    {
      "cell_type": "code",
      "source": [
        "# replace missing \"final_points\" with mean \n",
        "df[\"final_points\"] = df[\"final_points\"].fillna(df[\"final_points\"].mean())"
      ],
      "metadata": {
        "id": "U0YLWATawT0Q"
      },
      "execution_count": 8,
      "outputs": []
    },
    {
      "cell_type": "code",
      "source": [
        "# confirm replacement\n",
        "df.isna().sum()"
      ],
      "metadata": {
        "colab": {
          "base_uri": "https://localhost:8080/"
        },
        "id": "2Dz83CLXwgMQ",
        "outputId": "ead3d25f-b39a-4dfc-b761-dd39b0d4e560"
      },
      "execution_count": 9,
      "outputs": [
        {
          "output_type": "execute_result",
          "data": {
            "text/plain": [
              "season             0\n",
              "played             0\n",
              "won                0\n",
              "drawn              0\n",
              "lost               0\n",
              "goals_for          0\n",
              "goals_against      0\n",
              "goal_difference    0\n",
              "points             0\n",
              "position           0\n",
              "final_points       0\n",
              "final_position     1\n",
              "dtype: int64"
            ]
          },
          "metadata": {},
          "execution_count": 9
        }
      ]
    },
    {
      "cell_type": "code",
      "source": [
        "df[df[\"final_position\"].isna()]"
      ],
      "metadata": {
        "colab": {
          "base_uri": "https://localhost:8080/",
          "height": 80
        },
        "id": "QvKath7ywnNa",
        "outputId": "a5ac1d99-3513-4d6e-dba9-4e993a7f8ce1"
      },
      "execution_count": 10,
      "outputs": [
        {
          "output_type": "execute_result",
          "data": {
            "text/plain": [
              "     season  played  won  drawn  lost  goals_for  goals_against  \\\n",
              "28  2020/21      13    4      2     7         11             16   \n",
              "\n",
              "    goal_difference  points  position  final_points  final_position  \n",
              "28               -5      14        15     71.821429             NaN  "
            ],
            "text/html": [
              "\n",
              "  <div id=\"df-6947e57f-6e95-4ba6-887b-5eecca9d7957\">\n",
              "    <div class=\"colab-df-container\">\n",
              "      <div>\n",
              "<style scoped>\n",
              "    .dataframe tbody tr th:only-of-type {\n",
              "        vertical-align: middle;\n",
              "    }\n",
              "\n",
              "    .dataframe tbody tr th {\n",
              "        vertical-align: top;\n",
              "    }\n",
              "\n",
              "    .dataframe thead th {\n",
              "        text-align: right;\n",
              "    }\n",
              "</style>\n",
              "<table border=\"1\" class=\"dataframe\">\n",
              "  <thead>\n",
              "    <tr style=\"text-align: right;\">\n",
              "      <th></th>\n",
              "      <th>season</th>\n",
              "      <th>played</th>\n",
              "      <th>won</th>\n",
              "      <th>drawn</th>\n",
              "      <th>lost</th>\n",
              "      <th>goals_for</th>\n",
              "      <th>goals_against</th>\n",
              "      <th>goal_difference</th>\n",
              "      <th>points</th>\n",
              "      <th>position</th>\n",
              "      <th>final_points</th>\n",
              "      <th>final_position</th>\n",
              "    </tr>\n",
              "  </thead>\n",
              "  <tbody>\n",
              "    <tr>\n",
              "      <th>28</th>\n",
              "      <td>2020/21</td>\n",
              "      <td>13</td>\n",
              "      <td>4</td>\n",
              "      <td>2</td>\n",
              "      <td>7</td>\n",
              "      <td>11</td>\n",
              "      <td>16</td>\n",
              "      <td>-5</td>\n",
              "      <td>14</td>\n",
              "      <td>15</td>\n",
              "      <td>71.821429</td>\n",
              "      <td>NaN</td>\n",
              "    </tr>\n",
              "  </tbody>\n",
              "</table>\n",
              "</div>\n",
              "      <button class=\"colab-df-convert\" onclick=\"convertToInteractive('df-6947e57f-6e95-4ba6-887b-5eecca9d7957')\"\n",
              "              title=\"Convert this dataframe to an interactive table.\"\n",
              "              style=\"display:none;\">\n",
              "        \n",
              "  <svg xmlns=\"http://www.w3.org/2000/svg\" height=\"24px\"viewBox=\"0 0 24 24\"\n",
              "       width=\"24px\">\n",
              "    <path d=\"M0 0h24v24H0V0z\" fill=\"none\"/>\n",
              "    <path d=\"M18.56 5.44l.94 2.06.94-2.06 2.06-.94-2.06-.94-.94-2.06-.94 2.06-2.06.94zm-11 1L8.5 8.5l.94-2.06 2.06-.94-2.06-.94L8.5 2.5l-.94 2.06-2.06.94zm10 10l.94 2.06.94-2.06 2.06-.94-2.06-.94-.94-2.06-.94 2.06-2.06.94z\"/><path d=\"M17.41 7.96l-1.37-1.37c-.4-.4-.92-.59-1.43-.59-.52 0-1.04.2-1.43.59L10.3 9.45l-7.72 7.72c-.78.78-.78 2.05 0 2.83L4 21.41c.39.39.9.59 1.41.59.51 0 1.02-.2 1.41-.59l7.78-7.78 2.81-2.81c.8-.78.8-2.07 0-2.86zM5.41 20L4 18.59l7.72-7.72 1.47 1.35L5.41 20z\"/>\n",
              "  </svg>\n",
              "      </button>\n",
              "      \n",
              "  <style>\n",
              "    .colab-df-container {\n",
              "      display:flex;\n",
              "      flex-wrap:wrap;\n",
              "      gap: 12px;\n",
              "    }\n",
              "\n",
              "    .colab-df-convert {\n",
              "      background-color: #E8F0FE;\n",
              "      border: none;\n",
              "      border-radius: 50%;\n",
              "      cursor: pointer;\n",
              "      display: none;\n",
              "      fill: #1967D2;\n",
              "      height: 32px;\n",
              "      padding: 0 0 0 0;\n",
              "      width: 32px;\n",
              "    }\n",
              "\n",
              "    .colab-df-convert:hover {\n",
              "      background-color: #E2EBFA;\n",
              "      box-shadow: 0px 1px 2px rgba(60, 64, 67, 0.3), 0px 1px 3px 1px rgba(60, 64, 67, 0.15);\n",
              "      fill: #174EA6;\n",
              "    }\n",
              "\n",
              "    [theme=dark] .colab-df-convert {\n",
              "      background-color: #3B4455;\n",
              "      fill: #D2E3FC;\n",
              "    }\n",
              "\n",
              "    [theme=dark] .colab-df-convert:hover {\n",
              "      background-color: #434B5C;\n",
              "      box-shadow: 0px 1px 3px 1px rgba(0, 0, 0, 0.15);\n",
              "      filter: drop-shadow(0px 1px 2px rgba(0, 0, 0, 0.3));\n",
              "      fill: #FFFFFF;\n",
              "    }\n",
              "  </style>\n",
              "\n",
              "      <script>\n",
              "        const buttonEl =\n",
              "          document.querySelector('#df-6947e57f-6e95-4ba6-887b-5eecca9d7957 button.colab-df-convert');\n",
              "        buttonEl.style.display =\n",
              "          google.colab.kernel.accessAllowed ? 'block' : 'none';\n",
              "\n",
              "        async function convertToInteractive(key) {\n",
              "          const element = document.querySelector('#df-6947e57f-6e95-4ba6-887b-5eecca9d7957');\n",
              "          const dataTable =\n",
              "            await google.colab.kernel.invokeFunction('convertToInteractive',\n",
              "                                                     [key], {});\n",
              "          if (!dataTable) return;\n",
              "\n",
              "          const docLinkHtml = 'Like what you see? Visit the ' +\n",
              "            '<a target=\"_blank\" href=https://colab.research.google.com/notebooks/data_table.ipynb>data table notebook</a>'\n",
              "            + ' to learn more about interactive tables.';\n",
              "          element.innerHTML = '';\n",
              "          dataTable['output_type'] = 'display_data';\n",
              "          await google.colab.output.renderOutput(dataTable, element);\n",
              "          const docLink = document.createElement('div');\n",
              "          docLink.innerHTML = docLinkHtml;\n",
              "          element.appendChild(docLink);\n",
              "        }\n",
              "      </script>\n",
              "    </div>\n",
              "  </div>\n",
              "  "
            ]
          },
          "metadata": {},
          "execution_count": 10
        }
      ]
    },
    {
      "cell_type": "code",
      "source": [
        "# replace missing 'final_position\" with mean\n",
        "df[\"final_position\"] = df[\"final_position\"].fillna(df[\"final_position\"].mean())"
      ],
      "metadata": {
        "id": "G6Xg-NFSxMiL"
      },
      "execution_count": 11,
      "outputs": []
    },
    {
      "cell_type": "code",
      "source": [
        "# confirm replacement \n",
        "df.isna().sum()"
      ],
      "metadata": {
        "colab": {
          "base_uri": "https://localhost:8080/"
        },
        "id": "XzNN6uFhxWpp",
        "outputId": "4e48f53e-409f-4a11-91e3-4c168391e964"
      },
      "execution_count": 12,
      "outputs": [
        {
          "output_type": "execute_result",
          "data": {
            "text/plain": [
              "season             0\n",
              "played             0\n",
              "won                0\n",
              "drawn              0\n",
              "lost               0\n",
              "goals_for          0\n",
              "goals_against      0\n",
              "goal_difference    0\n",
              "points             0\n",
              "position           0\n",
              "final_points       0\n",
              "final_position     0\n",
              "dtype: int64"
            ]
          },
          "metadata": {},
          "execution_count": 12
        }
      ]
    },
    {
      "cell_type": "markdown",
      "source": [
        "I chose to replace both missing values with the mean because I came to the conclusion that would be the most logical replacement that wouldn't scew the data"
      ],
      "metadata": {
        "id": "bT-wiDHgxbKE"
      }
    },
    {
      "cell_type": "markdown",
      "source": [
        "Confirm all data is correct and consistent"
      ],
      "metadata": {
        "id": "UzGP2VQsyWRl"
      }
    },
    {
      "cell_type": "code",
      "source": [
        "df.info()"
      ],
      "metadata": {
        "colab": {
          "base_uri": "https://localhost:8080/"
        },
        "id": "3PiX6iSSyb4e",
        "outputId": "2afdf842-c7bb-491e-c20e-6e835cd7c540"
      },
      "execution_count": 13,
      "outputs": [
        {
          "output_type": "stream",
          "name": "stdout",
          "text": [
            "<class 'pandas.core.frame.DataFrame'>\n",
            "RangeIndex: 29 entries, 0 to 28\n",
            "Data columns (total 12 columns):\n",
            " #   Column           Non-Null Count  Dtype  \n",
            "---  ------           --------------  -----  \n",
            " 0   season           29 non-null     object \n",
            " 1   played           29 non-null     int64  \n",
            " 2   won              29 non-null     int64  \n",
            " 3   drawn            29 non-null     int64  \n",
            " 4   lost             29 non-null     int64  \n",
            " 5   goals_for        29 non-null     int64  \n",
            " 6   goals_against    29 non-null     int64  \n",
            " 7   goal_difference  29 non-null     int64  \n",
            " 8   points           29 non-null     int64  \n",
            " 9   position         29 non-null     int64  \n",
            " 10  final_points     29 non-null     float64\n",
            " 11  final_position   29 non-null     float64\n",
            "dtypes: float64(2), int64(9), object(1)\n",
            "memory usage: 2.8+ KB\n"
          ]
        }
      ]
    },
    {
      "cell_type": "code",
      "source": [
        "df[\"final_points\"].sort_values()"
      ],
      "metadata": {
        "colab": {
          "base_uri": "https://localhost:8080/"
        },
        "id": "qCap3ZU0ynXM",
        "outputId": "594ac399-cb67-4074-a533-d1dd17a2afb0"
      },
      "execution_count": 14,
      "outputs": [
        {
          "output_type": "execute_result",
          "data": {
            "text/plain": [
              "2     51.000000\n",
              "0     56.000000\n",
              "27    56.000000\n",
              "25    63.000000\n",
              "3     63.000000\n",
              "13    67.000000\n",
              "18    68.000000\n",
              "14    68.000000\n",
              "4     68.000000\n",
              "26    70.000000\n",
              "19    70.000000\n",
              "8     70.000000\n",
              "1     71.000000\n",
              "23    71.000000\n",
              "28    71.821429\n",
              "16    72.000000\n",
              "7     73.000000\n",
              "20    73.000000\n",
              "22    75.000000\n",
              "24    75.000000\n",
              "17    75.000000\n",
              "10    78.000000\n",
              "5     78.000000\n",
              "6     78.000000\n",
              "21    79.000000\n",
              "15    83.000000\n",
              "12    83.000000\n",
              "9     87.000000\n",
              "11    90.000000\n",
              "Name: final_points, dtype: float64"
            ]
          },
          "metadata": {},
          "execution_count": 14
        }
      ]
    },
    {
      "cell_type": "code",
      "source": [
        "# round up value \n",
        "df[\"final_points\"]= df[\"final_points\"].apply(np.ceil)"
      ],
      "metadata": {
        "id": "TYg3x6KLzRLs"
      },
      "execution_count": 15,
      "outputs": []
    },
    {
      "cell_type": "code",
      "source": [
        "# confirm rounded\n",
        "df[\"final_points\"].sort_values()"
      ],
      "metadata": {
        "colab": {
          "base_uri": "https://localhost:8080/"
        },
        "id": "uuk7604n0KDu",
        "outputId": "d8e019ba-38a8-4e3b-fa15-fb8682777e04"
      },
      "execution_count": 16,
      "outputs": [
        {
          "output_type": "execute_result",
          "data": {
            "text/plain": [
              "2     51.0\n",
              "0     56.0\n",
              "27    56.0\n",
              "25    63.0\n",
              "3     63.0\n",
              "13    67.0\n",
              "18    68.0\n",
              "14    68.0\n",
              "4     68.0\n",
              "26    70.0\n",
              "19    70.0\n",
              "8     70.0\n",
              "1     71.0\n",
              "23    71.0\n",
              "28    72.0\n",
              "16    72.0\n",
              "7     73.0\n",
              "20    73.0\n",
              "22    75.0\n",
              "24    75.0\n",
              "17    75.0\n",
              "10    78.0\n",
              "5     78.0\n",
              "6     78.0\n",
              "21    79.0\n",
              "15    83.0\n",
              "12    83.0\n",
              "9     87.0\n",
              "11    90.0\n",
              "Name: final_points, dtype: float64"
            ]
          },
          "metadata": {},
          "execution_count": 16
        }
      ]
    },
    {
      "cell_type": "code",
      "source": [
        "# change data type\n",
        "df[\"final_points\"] = df[\"final_points\"].astype(int)"
      ],
      "metadata": {
        "id": "didDMK0H0PUT"
      },
      "execution_count": 17,
      "outputs": []
    },
    {
      "cell_type": "code",
      "source": [
        "# confirm\n",
        "df[\"final_points\"].dtype"
      ],
      "metadata": {
        "colab": {
          "base_uri": "https://localhost:8080/"
        },
        "id": "dAAqW2le0Y6-",
        "outputId": "881964fb-7879-4f80-a0cf-5bad835dec78"
      },
      "execution_count": 18,
      "outputs": [
        {
          "output_type": "execute_result",
          "data": {
            "text/plain": [
              "dtype('int64')"
            ]
          },
          "metadata": {},
          "execution_count": 18
        }
      ]
    },
    {
      "cell_type": "code",
      "source": [
        "df[\"final_position\"].sort_values()"
      ],
      "metadata": {
        "colab": {
          "base_uri": "https://localhost:8080/"
        },
        "id": "UmVa1gtb0dOu",
        "outputId": "2e7f9760-1eab-44e1-b906-cad71328b874"
      },
      "execution_count": 19,
      "outputs": [
        {
          "output_type": "execute_result",
          "data": {
            "text/plain": [
              "5      1.000000\n",
              "11     1.000000\n",
              "9      1.000000\n",
              "8      2.000000\n",
              "23     2.000000\n",
              "12     2.000000\n",
              "6      2.000000\n",
              "7      2.000000\n",
              "10     2.000000\n",
              "15     3.000000\n",
              "19     3.000000\n",
              "17     3.000000\n",
              "4      3.000000\n",
              "22     3.000000\n",
              "28     3.892857\n",
              "20     4.000000\n",
              "21     4.000000\n",
              "18     4.000000\n",
              "14     4.000000\n",
              "13     4.000000\n",
              "1      4.000000\n",
              "16     4.000000\n",
              "3      5.000000\n",
              "24     5.000000\n",
              "26     5.000000\n",
              "25     6.000000\n",
              "27     8.000000\n",
              "0     10.000000\n",
              "2     12.000000\n",
              "Name: final_position, dtype: float64"
            ]
          },
          "metadata": {},
          "execution_count": 19
        }
      ]
    },
    {
      "cell_type": "code",
      "source": [
        "# round up\n",
        "df[\"final_position\"]= df[\"final_position\"].apply(np.ceil)"
      ],
      "metadata": {
        "id": "dTRA8yET0kQy"
      },
      "execution_count": 20,
      "outputs": []
    },
    {
      "cell_type": "code",
      "source": [
        "# change rounded\n",
        "df[\"final_position\"].sort_values()"
      ],
      "metadata": {
        "colab": {
          "base_uri": "https://localhost:8080/"
        },
        "id": "oim1FGIm0rNj",
        "outputId": "6ccc748d-73bd-4dc1-f5ad-ccaddab3128e"
      },
      "execution_count": 21,
      "outputs": [
        {
          "output_type": "execute_result",
          "data": {
            "text/plain": [
              "5      1.0\n",
              "11     1.0\n",
              "9      1.0\n",
              "8      2.0\n",
              "23     2.0\n",
              "12     2.0\n",
              "6      2.0\n",
              "7      2.0\n",
              "10     2.0\n",
              "15     3.0\n",
              "19     3.0\n",
              "17     3.0\n",
              "4      3.0\n",
              "22     3.0\n",
              "20     4.0\n",
              "21     4.0\n",
              "18     4.0\n",
              "14     4.0\n",
              "28     4.0\n",
              "13     4.0\n",
              "1      4.0\n",
              "16     4.0\n",
              "3      5.0\n",
              "24     5.0\n",
              "26     5.0\n",
              "25     6.0\n",
              "27     8.0\n",
              "0     10.0\n",
              "2     12.0\n",
              "Name: final_position, dtype: float64"
            ]
          },
          "metadata": {},
          "execution_count": 21
        }
      ]
    },
    {
      "cell_type": "code",
      "source": [
        "# change data type\n",
        "df[\"final_position\"] = df[\"final_position\"].astype(int)"
      ],
      "metadata": {
        "id": "66-95-kC02lC"
      },
      "execution_count": 22,
      "outputs": []
    },
    {
      "cell_type": "code",
      "source": [
        "# confirm changed\n",
        "df[\"final_position\"].dtype"
      ],
      "metadata": {
        "colab": {
          "base_uri": "https://localhost:8080/"
        },
        "id": "MEpFkV8U0-c7",
        "outputId": "df140a25-f902-4cfd-ab8c-6447930730b9"
      },
      "execution_count": 23,
      "outputs": [
        {
          "output_type": "execute_result",
          "data": {
            "text/plain": [
              "dtype('int64')"
            ]
          },
          "metadata": {},
          "execution_count": 23
        }
      ]
    },
    {
      "cell_type": "code",
      "source": [
        "df.info()"
      ],
      "metadata": {
        "colab": {
          "base_uri": "https://localhost:8080/"
        },
        "id": "De5oDP3B1CGo",
        "outputId": "0fb4db97-373b-49f4-cd35-e879f0856e1f"
      },
      "execution_count": 24,
      "outputs": [
        {
          "output_type": "stream",
          "name": "stdout",
          "text": [
            "<class 'pandas.core.frame.DataFrame'>\n",
            "RangeIndex: 29 entries, 0 to 28\n",
            "Data columns (total 12 columns):\n",
            " #   Column           Non-Null Count  Dtype \n",
            "---  ------           --------------  ----- \n",
            " 0   season           29 non-null     object\n",
            " 1   played           29 non-null     int64 \n",
            " 2   won              29 non-null     int64 \n",
            " 3   drawn            29 non-null     int64 \n",
            " 4   lost             29 non-null     int64 \n",
            " 5   goals_for        29 non-null     int64 \n",
            " 6   goals_against    29 non-null     int64 \n",
            " 7   goal_difference  29 non-null     int64 \n",
            " 8   points           29 non-null     int64 \n",
            " 9   position         29 non-null     int64 \n",
            " 10  final_points     29 non-null     int64 \n",
            " 11  final_position   29 non-null     int64 \n",
            "dtypes: int64(11), object(1)\n",
            "memory usage: 2.8+ KB\n"
          ]
        }
      ]
    },
    {
      "cell_type": "code",
      "source": [
        "# Check for inconsistencies\n",
        "dtypes = df.dtypes\n",
        "str_cols = dtypes[dtypes ==\"object\"].index\n",
        "str_cols"
      ],
      "metadata": {
        "colab": {
          "base_uri": "https://localhost:8080/"
        },
        "id": "8O5g-zIW1LvH",
        "outputId": "63b27e31-b9db-414c-fb9f-2b69862be7c7"
      },
      "execution_count": 25,
      "outputs": [
        {
          "output_type": "execute_result",
          "data": {
            "text/plain": [
              "Index(['season'], dtype='object')"
            ]
          },
          "metadata": {},
          "execution_count": 25
        }
      ]
    },
    {
      "cell_type": "code",
      "source": [
        "for col in str_cols:\n",
        "    print(f\"-Column = {col}\")\n",
        "    print(df[col].value_counts(dropna = False))\n",
        "    print(\"/n/n\")"
      ],
      "metadata": {
        "colab": {
          "base_uri": "https://localhost:8080/"
        },
        "id": "EWiOOOQa1fio",
        "outputId": "a25b069a-bacf-43cd-9213-d0d70887ccfd"
      },
      "execution_count": 26,
      "outputs": [
        {
          "output_type": "stream",
          "name": "stdout",
          "text": [
            "-Column = season\n",
            "1992/93    1\n",
            "2007/08    1\n",
            "2019/20    1\n",
            "2018/19    1\n",
            "2017/18    1\n",
            "2016/17    1\n",
            "2015/16    1\n",
            "2014/15    1\n",
            "2013/14    1\n",
            "2012/13    1\n",
            "2011/12    1\n",
            "2010/11    1\n",
            "2009/10    1\n",
            "2008/09    1\n",
            "2006/07    1\n",
            "1993/94    1\n",
            "2005/06    1\n",
            "2004/05    1\n",
            "2003/04    1\n",
            "2002/03    1\n",
            "2001/02    1\n",
            "2000/01    1\n",
            "1999/00    1\n",
            "1998/99    1\n",
            "1997/98    1\n",
            "1996/97    1\n",
            "1995/96    1\n",
            "1994/95    1\n",
            "2020/21    1\n",
            "Name: season, dtype: int64\n",
            "/n/n\n"
          ]
        }
      ]
    },
    {
      "cell_type": "code",
      "source": [
        "df.describe()"
      ],
      "metadata": {
        "colab": {
          "base_uri": "https://localhost:8080/",
          "height": 297
        },
        "id": "SiFsmog92A_G",
        "outputId": "51f48144-22aa-44ed-b560-a75b194617b0"
      },
      "execution_count": 27,
      "outputs": [
        {
          "output_type": "execute_result",
          "data": {
            "text/plain": [
              "          played        won      drawn       lost  goals_for  goals_against  \\\n",
              "count  29.000000  29.000000  29.000000  29.000000  29.000000      29.000000   \n",
              "mean   17.137931   8.862069   4.310345   3.965517  29.344828      17.655172   \n",
              "std     1.381618   1.940621   1.872802   1.741977   7.266734       4.202685   \n",
              "min    13.000000   4.000000   2.000000   0.000000  11.000000      10.000000   \n",
              "25%    16.000000   8.000000   3.000000   3.000000  24.000000      14.000000   \n",
              "50%    17.000000   9.000000   4.000000   4.000000  30.000000      18.000000   \n",
              "75%    18.000000  10.000000   6.000000   5.000000  34.000000      20.000000   \n",
              "max    21.000000  12.000000   8.000000   8.000000  44.000000      27.000000   \n",
              "\n",
              "       goal_difference     points   position  final_points  final_position  \n",
              "count        29.000000  29.000000  29.000000     29.000000       29.000000  \n",
              "mean         11.689655  30.862069   4.758621     71.827586        3.896552  \n",
              "std           6.887377   5.323292   3.247583      8.819900        2.526217  \n",
              "min          -5.000000  14.000000   1.000000     51.000000        1.000000  \n",
              "25%           7.000000  29.000000   2.000000     68.000000        2.000000  \n",
              "50%          13.000000  32.000000   5.000000     72.000000        4.000000  \n",
              "75%          16.000000  35.000000   6.000000     78.000000        4.000000  \n",
              "max          22.000000  40.000000  15.000000     90.000000       12.000000  "
            ],
            "text/html": [
              "\n",
              "  <div id=\"df-6d6fa3ce-2bb8-4cdb-8582-bba4be66c5d0\">\n",
              "    <div class=\"colab-df-container\">\n",
              "      <div>\n",
              "<style scoped>\n",
              "    .dataframe tbody tr th:only-of-type {\n",
              "        vertical-align: middle;\n",
              "    }\n",
              "\n",
              "    .dataframe tbody tr th {\n",
              "        vertical-align: top;\n",
              "    }\n",
              "\n",
              "    .dataframe thead th {\n",
              "        text-align: right;\n",
              "    }\n",
              "</style>\n",
              "<table border=\"1\" class=\"dataframe\">\n",
              "  <thead>\n",
              "    <tr style=\"text-align: right;\">\n",
              "      <th></th>\n",
              "      <th>played</th>\n",
              "      <th>won</th>\n",
              "      <th>drawn</th>\n",
              "      <th>lost</th>\n",
              "      <th>goals_for</th>\n",
              "      <th>goals_against</th>\n",
              "      <th>goal_difference</th>\n",
              "      <th>points</th>\n",
              "      <th>position</th>\n",
              "      <th>final_points</th>\n",
              "      <th>final_position</th>\n",
              "    </tr>\n",
              "  </thead>\n",
              "  <tbody>\n",
              "    <tr>\n",
              "      <th>count</th>\n",
              "      <td>29.000000</td>\n",
              "      <td>29.000000</td>\n",
              "      <td>29.000000</td>\n",
              "      <td>29.000000</td>\n",
              "      <td>29.000000</td>\n",
              "      <td>29.000000</td>\n",
              "      <td>29.000000</td>\n",
              "      <td>29.000000</td>\n",
              "      <td>29.000000</td>\n",
              "      <td>29.000000</td>\n",
              "      <td>29.000000</td>\n",
              "    </tr>\n",
              "    <tr>\n",
              "      <th>mean</th>\n",
              "      <td>17.137931</td>\n",
              "      <td>8.862069</td>\n",
              "      <td>4.310345</td>\n",
              "      <td>3.965517</td>\n",
              "      <td>29.344828</td>\n",
              "      <td>17.655172</td>\n",
              "      <td>11.689655</td>\n",
              "      <td>30.862069</td>\n",
              "      <td>4.758621</td>\n",
              "      <td>71.827586</td>\n",
              "      <td>3.896552</td>\n",
              "    </tr>\n",
              "    <tr>\n",
              "      <th>std</th>\n",
              "      <td>1.381618</td>\n",
              "      <td>1.940621</td>\n",
              "      <td>1.872802</td>\n",
              "      <td>1.741977</td>\n",
              "      <td>7.266734</td>\n",
              "      <td>4.202685</td>\n",
              "      <td>6.887377</td>\n",
              "      <td>5.323292</td>\n",
              "      <td>3.247583</td>\n",
              "      <td>8.819900</td>\n",
              "      <td>2.526217</td>\n",
              "    </tr>\n",
              "    <tr>\n",
              "      <th>min</th>\n",
              "      <td>13.000000</td>\n",
              "      <td>4.000000</td>\n",
              "      <td>2.000000</td>\n",
              "      <td>0.000000</td>\n",
              "      <td>11.000000</td>\n",
              "      <td>10.000000</td>\n",
              "      <td>-5.000000</td>\n",
              "      <td>14.000000</td>\n",
              "      <td>1.000000</td>\n",
              "      <td>51.000000</td>\n",
              "      <td>1.000000</td>\n",
              "    </tr>\n",
              "    <tr>\n",
              "      <th>25%</th>\n",
              "      <td>16.000000</td>\n",
              "      <td>8.000000</td>\n",
              "      <td>3.000000</td>\n",
              "      <td>3.000000</td>\n",
              "      <td>24.000000</td>\n",
              "      <td>14.000000</td>\n",
              "      <td>7.000000</td>\n",
              "      <td>29.000000</td>\n",
              "      <td>2.000000</td>\n",
              "      <td>68.000000</td>\n",
              "      <td>2.000000</td>\n",
              "    </tr>\n",
              "    <tr>\n",
              "      <th>50%</th>\n",
              "      <td>17.000000</td>\n",
              "      <td>9.000000</td>\n",
              "      <td>4.000000</td>\n",
              "      <td>4.000000</td>\n",
              "      <td>30.000000</td>\n",
              "      <td>18.000000</td>\n",
              "      <td>13.000000</td>\n",
              "      <td>32.000000</td>\n",
              "      <td>5.000000</td>\n",
              "      <td>72.000000</td>\n",
              "      <td>4.000000</td>\n",
              "    </tr>\n",
              "    <tr>\n",
              "      <th>75%</th>\n",
              "      <td>18.000000</td>\n",
              "      <td>10.000000</td>\n",
              "      <td>6.000000</td>\n",
              "      <td>5.000000</td>\n",
              "      <td>34.000000</td>\n",
              "      <td>20.000000</td>\n",
              "      <td>16.000000</td>\n",
              "      <td>35.000000</td>\n",
              "      <td>6.000000</td>\n",
              "      <td>78.000000</td>\n",
              "      <td>4.000000</td>\n",
              "    </tr>\n",
              "    <tr>\n",
              "      <th>max</th>\n",
              "      <td>21.000000</td>\n",
              "      <td>12.000000</td>\n",
              "      <td>8.000000</td>\n",
              "      <td>8.000000</td>\n",
              "      <td>44.000000</td>\n",
              "      <td>27.000000</td>\n",
              "      <td>22.000000</td>\n",
              "      <td>40.000000</td>\n",
              "      <td>15.000000</td>\n",
              "      <td>90.000000</td>\n",
              "      <td>12.000000</td>\n",
              "    </tr>\n",
              "  </tbody>\n",
              "</table>\n",
              "</div>\n",
              "      <button class=\"colab-df-convert\" onclick=\"convertToInteractive('df-6d6fa3ce-2bb8-4cdb-8582-bba4be66c5d0')\"\n",
              "              title=\"Convert this dataframe to an interactive table.\"\n",
              "              style=\"display:none;\">\n",
              "        \n",
              "  <svg xmlns=\"http://www.w3.org/2000/svg\" height=\"24px\"viewBox=\"0 0 24 24\"\n",
              "       width=\"24px\">\n",
              "    <path d=\"M0 0h24v24H0V0z\" fill=\"none\"/>\n",
              "    <path d=\"M18.56 5.44l.94 2.06.94-2.06 2.06-.94-2.06-.94-.94-2.06-.94 2.06-2.06.94zm-11 1L8.5 8.5l.94-2.06 2.06-.94-2.06-.94L8.5 2.5l-.94 2.06-2.06.94zm10 10l.94 2.06.94-2.06 2.06-.94-2.06-.94-.94-2.06-.94 2.06-2.06.94z\"/><path d=\"M17.41 7.96l-1.37-1.37c-.4-.4-.92-.59-1.43-.59-.52 0-1.04.2-1.43.59L10.3 9.45l-7.72 7.72c-.78.78-.78 2.05 0 2.83L4 21.41c.39.39.9.59 1.41.59.51 0 1.02-.2 1.41-.59l7.78-7.78 2.81-2.81c.8-.78.8-2.07 0-2.86zM5.41 20L4 18.59l7.72-7.72 1.47 1.35L5.41 20z\"/>\n",
              "  </svg>\n",
              "      </button>\n",
              "      \n",
              "  <style>\n",
              "    .colab-df-container {\n",
              "      display:flex;\n",
              "      flex-wrap:wrap;\n",
              "      gap: 12px;\n",
              "    }\n",
              "\n",
              "    .colab-df-convert {\n",
              "      background-color: #E8F0FE;\n",
              "      border: none;\n",
              "      border-radius: 50%;\n",
              "      cursor: pointer;\n",
              "      display: none;\n",
              "      fill: #1967D2;\n",
              "      height: 32px;\n",
              "      padding: 0 0 0 0;\n",
              "      width: 32px;\n",
              "    }\n",
              "\n",
              "    .colab-df-convert:hover {\n",
              "      background-color: #E2EBFA;\n",
              "      box-shadow: 0px 1px 2px rgba(60, 64, 67, 0.3), 0px 1px 3px 1px rgba(60, 64, 67, 0.15);\n",
              "      fill: #174EA6;\n",
              "    }\n",
              "\n",
              "    [theme=dark] .colab-df-convert {\n",
              "      background-color: #3B4455;\n",
              "      fill: #D2E3FC;\n",
              "    }\n",
              "\n",
              "    [theme=dark] .colab-df-convert:hover {\n",
              "      background-color: #434B5C;\n",
              "      box-shadow: 0px 1px 3px 1px rgba(0, 0, 0, 0.15);\n",
              "      filter: drop-shadow(0px 1px 2px rgba(0, 0, 0, 0.3));\n",
              "      fill: #FFFFFF;\n",
              "    }\n",
              "  </style>\n",
              "\n",
              "      <script>\n",
              "        const buttonEl =\n",
              "          document.querySelector('#df-6d6fa3ce-2bb8-4cdb-8582-bba4be66c5d0 button.colab-df-convert');\n",
              "        buttonEl.style.display =\n",
              "          google.colab.kernel.accessAllowed ? 'block' : 'none';\n",
              "\n",
              "        async function convertToInteractive(key) {\n",
              "          const element = document.querySelector('#df-6d6fa3ce-2bb8-4cdb-8582-bba4be66c5d0');\n",
              "          const dataTable =\n",
              "            await google.colab.kernel.invokeFunction('convertToInteractive',\n",
              "                                                     [key], {});\n",
              "          if (!dataTable) return;\n",
              "\n",
              "          const docLinkHtml = 'Like what you see? Visit the ' +\n",
              "            '<a target=\"_blank\" href=https://colab.research.google.com/notebooks/data_table.ipynb>data table notebook</a>'\n",
              "            + ' to learn more about interactive tables.';\n",
              "          element.innerHTML = '';\n",
              "          dataTable['output_type'] = 'display_data';\n",
              "          await google.colab.output.renderOutput(dataTable, element);\n",
              "          const docLink = document.createElement('div');\n",
              "          docLink.innerHTML = docLinkHtml;\n",
              "          element.appendChild(docLink);\n",
              "        }\n",
              "      </script>\n",
              "    </div>\n",
              "  </div>\n",
              "  "
            ]
          },
          "metadata": {},
          "execution_count": 27
        }
      ]
    },
    {
      "cell_type": "markdown",
      "source": [
        "All columns have consistent values "
      ],
      "metadata": {
        "id": "ibVqjwG_2GqA"
      }
    },
    {
      "cell_type": "markdown",
      "source": [
        "## Visualizations"
      ],
      "metadata": {
        "id": "Ibs-5V3S2OQR"
      }
    },
    {
      "cell_type": "markdown",
      "source": [
        "This histogram shows played between 15 and 19 games each season most consistently "
      ],
      "metadata": {
        "id": "DIcgOzwQ2zuE"
      }
    },
    {
      "cell_type": "code",
      "source": [
        "# Create heatmap to show correlation \n",
        "corr = df.corr()\n",
        "sns.set(rc = {\"figure.figsize\":(15,8)})\n",
        "sns.heatmap(corr, cmap = \"Reds\", annot = True);"
      ],
      "metadata": {
        "colab": {
          "base_uri": "https://localhost:8080/",
          "height": 565
        },
        "id": "NocP2-v96zQB",
        "outputId": "ed44cef7-4d48-4bcf-f9c7-fc953480fe1b"
      },
      "execution_count": 29,
      "outputs": [
        {
          "output_type": "display_data",
          "data": {
            "text/plain": [
              "<Figure size 1080x576 with 2 Axes>"
            ],
            "image/png": "[encoded data removed]"
          },
          "metadata": {}
        }
      ]
    },
    {
      "cell_type": "markdown",
      "source": [
        "By looking at this heatmap there is a strong positive correlation for points and won and a strong negative correlation for points and lost"
      ],
      "metadata": {
        "id": "HVbwMC3b77dY"
      }
    },
    {
      "cell_type": "code",
      "source": [
        "# Showing the correlations of games won/points and games lost/points through a plot \n",
        "fig = plt.figure(figsize = (10,6))\n",
        "won = sns.regplot(data = df, x = \"points\", y = \"won\")\n",
        "loss = sns.regplot(data = df, x=\"points\", y = \"lost\")\n",
        "won.set_title(\"Points vs. Games won/lost\",fontsize = 20)\n",
        "won.set_xlabel(\"points\", fontsize = 15)\n",
        "won.set_ylabel(\"won / lost\", fontsize = 15)\n",
        "fig.legend(labels = [\"won\",\"lost\"], fontsize = 12);\n",
        "\n"
      ],
      "metadata": {
        "colab": {
          "base_uri": "https://localhost:8080/",
          "height": 438
        },
        "id": "2FYDjKxYemhG",
        "outputId": "31f6f18e-6ee7-4aaa-ea2d-8443b2503b14"
      },
      "execution_count": 91,
      "outputs": [
        {
          "output_type": "display_data",
          "data": {
            "text/plain": [
              "<Figure size 720x432 with 1 Axes>"
            ],
            "image/png": "[encoded data removed]"
          },
          "metadata": {}
        }
      ]
    }
  ]
}